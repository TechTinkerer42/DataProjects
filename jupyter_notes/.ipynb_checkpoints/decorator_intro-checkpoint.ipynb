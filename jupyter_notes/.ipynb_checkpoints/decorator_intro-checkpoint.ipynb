{
 "cells": [
  {
   "cell_type": "code",
   "execution_count": 26,
   "metadata": {},
   "outputs": [
    {
     "name": "stdout",
     "output_type": "stream",
     "text": [
      "test\n",
      "test\n",
      "test\n",
      "test\n",
      "test\n",
      "test\n",
      "test\n",
      "test\n",
      "test\n",
      "test\n",
      "10\n"
     ]
    }
   ],
   "source": [
    "def decorator(func):\n",
    "    def helper():\n",
    "        helper.calls += 1\n",
    "        return func()\n",
    "    helper.calls = 0\n",
    "    return helper\n",
    "\n",
    "@decorator\n",
    "def test():\n",
    "    print(\"test\")\n",
    "\n",
    "#test(1)\n",
    "#print(test.calls)\n",
    "for i in range(10):\n",
    "    test()\n",
    "print(test.calls)"
   ]
  },
  {
   "cell_type": "code",
   "execution_count": 27,
   "metadata": {},
   "outputs": [
    {
     "name": "stdout",
     "output_type": "stream",
     "text": [
      "10\n"
     ]
    }
   ],
   "source": [
    "def decorator(func):\n",
    "    def helper():\n",
    "        helper.calls += 1\n",
    "        #return func()\n",
    "    helper.calls = 0\n",
    "    return helper\n",
    "\n",
    "@decorator\n",
    "def test():\n",
    "    print(\"test\")\n",
    "\n",
    "#test(1)\n",
    "#print(test.calls)\n",
    "for i in range(10):\n",
    "    test()\n",
    "print(test.calls)"
   ]
  },
  {
   "cell_type": "code",
   "execution_count": 68,
   "metadata": {},
   "outputs": [
    {
     "name": "stdout",
     "output_type": "stream",
     "text": [
      "1\n",
      "a\n",
      "2\n",
      "b\n",
      "3\n",
      "c\n",
      "test\n"
     ]
    }
   ],
   "source": [
    "def decorator(func):\n",
    "    def helper(x):\n",
    "        helper.calls += 1\n",
    "        print(helper.calls)\n",
    "        return func(x)\n",
    "    helper.calls = 0\n",
    "    helper.onething = \"test\"\n",
    "    return helper\n",
    "\n",
    "@decorator\n",
    "def test(x):\n",
    "    print(x)\n",
    "\n",
    "    \n",
    "#test(1)\n",
    "#print(test.calls)\n",
    "for i in ('a','b','c'):\n",
    "    test(i)\n",
    "#print(test.calls)\n",
    "print(test.onething)"
   ]
  },
  {
   "cell_type": "code",
   "execution_count": 90,
   "metadata": {},
   "outputs": [
    {
     "name": "stdout",
     "output_type": "stream",
     "text": [
      "1 2\n",
      "test\n"
     ]
    }
   ],
   "source": [
    "def mytest(func):\n",
    "    def yeaper():\n",
    "        print(\"test\")\n",
    "    yeaper.one = 1\n",
    "    yeaper.two = 2\n",
    "    return yeaper\n",
    "\n",
    "@mytest\n",
    "def run():\n",
    "    print(\"None\")\n",
    "\n",
    "print(run.one, run.two)\n",
    "mytest(run)()"
   ]
  },
  {
   "cell_type": "code",
   "execution_count": null,
   "metadata": {
    "collapsed": true
   },
   "outputs": [],
   "source": []
  }
 ],
 "metadata": {
  "kernelspec": {
   "display_name": "Python 3",
   "language": "python",
   "name": "python3"
  },
  "language_info": {
   "codemirror_mode": {
    "name": "ipython",
    "version": 3
   },
   "file_extension": ".py",
   "mimetype": "text/x-python",
   "name": "python",
   "nbconvert_exporter": "python",
   "pygments_lexer": "ipython3",
   "version": "3.6.2"
  }
 },
 "nbformat": 4,
 "nbformat_minor": 2
}
