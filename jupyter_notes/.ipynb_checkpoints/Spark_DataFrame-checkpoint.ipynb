{
 "cells": [
  {
   "cell_type": "code",
   "execution_count": 1,
   "metadata": {},
   "outputs": [
    {
     "name": "stdout",
     "output_type": "stream",
     "text": [
      "3.14147936\n"
     ]
    }
   ],
   "source": [
    "import findspark\n",
    "findspark.init('/usr/local/spark/spark-2.4.0-bin-hadoop2.7')\n",
    "import pyspark\n",
    "\n",
    "import random\n",
    "\n",
    "sc = pyspark.SparkContext(appName = 'test')"
   ]
  },
  {
   "cell_type": "code",
   "execution_count": null,
   "metadata": {},
   "outputs": [],
   "source": [
    "# calculate pi value\n",
    "num_samples = 100000000\n",
    "def inside(p):\n",
    "    x,y = random.random(), random.random()\n",
    "    return x*x + y*y < 1\n",
    "count = sc.parallelize(range(0,num_samples)).filter(inside).count()\n",
    "pi = 4 * count/num_samples\n",
    "print(pi)"
   ]
  },
  {
   "cell_type": "code",
   "execution_count": 2,
   "metadata": {},
   "outputs": [
    {
     "name": "stdout",
     "output_type": "stream",
     "text": [
      "+---+--------+\n",
      "|age|    name|\n",
      "+---+--------+\n",
      "| 25|   Ankit|\n",
      "| 22|Jalfaizy|\n",
      "| 20| saurabh|\n",
      "| 26|    Bala|\n",
      "+---+--------+\n",
      "\n",
      "CSV File Saving Success!\n"
     ]
    }
   ],
   "source": [
    "from pyspark import SQLContext\n",
    "from pyspark.sql import Row\n",
    "import os\n",
    "\n",
    "sqlContext = SQLContext(sc)\n",
    "l = [('Ankit',25),('Jalfaizy',22),('saurabh',20),('Bala',26)]\n",
    "rdd = sc.parallelize(l)\n",
    "people = rdd.map(lambda x: Row(name=x[0], age=int(x[1])))\n",
    "People_df = sqlContext.createDataFrame(people)\n",
    "People_df.show()\n",
    "if os.path.exists('people.csv'):\n",
    "    print('CSV File Exists Already!')\n",
    "else:\n",
    "    People_df.coalesce(1).write.csv('people.csv', header=True)\n",
    "    print('CSV File Saving Success!')"
   ]
  },
  {
   "cell_type": "code",
   "execution_count": null,
   "metadata": {},
   "outputs": [],
   "source": [
    "from pyspark import SQLContext\n",
    "#from pyspark.sql import Row\n",
    "import os\n",
    "\n",
    "sqlContext = SQLContext(sc)\n",
    "\n",
    "if os.path.exists('people.csv'):\n",
    "    sample_df = sqlContext.read.csv('people.csv', inferSchema=True, header=True)\n",
    "    sample_df.show()\n",
    "    print('CSV File Loading Success!')\n",
    "else:\n",
    "    print('CSV File Doesnot Exist!')"
   ]
  },
  {
   "cell_type": "code",
   "execution_count": null,
   "metadata": {},
   "outputs": [],
   "source": [
    "sample_df.show(2)\n",
    "#sample_df.head(2)\n",
    "sample_df.printSchema() #show schema\n",
    "sample_df.count()       #row count\n",
    "sample_df.columns       #show colum names\n",
    "sample_df.describe('age').show() #column profiling\n",
    "sample_df.select('age').show() # select statement\n",
    "sample_df.select('name').distinct().show() #select distinct statement\n",
    "print(sample_df.select('name').distinct().count()) #count distinct statement\n",
    "sample_df.select('age','name').dropDuplicates().show() #remove duplicates\n",
    "print(sample_df.dropna().count()) #drop blank rows\n",
    "sample_df.fillna(-1).show()       #fill blank row with default value\n",
    "sample_df.filter(sample_df.age > 25).show() #filter/where statement\n",
    "sample_df.groupby('name')\\\n",
    ".sum()\\\n",
    ".show()    #group by sum statement\n",
    "sample_df.groupby('name')\\\n",
    ".count()\\\n",
    ".show()  #group by count statement\n",
    "t1 = sample_df.sample(False, 0.2, 1)      #make another sample dataframe\n",
    "t1.show()\n",
    "rdd = sample_df.select('age')\\\n",
    ".rdd\\\n",
    ".map(lambda x:(x,1)) #transfer dataframe to rdd\n",
    "for x in rdd.collect():\n",
    "    print(x)\n",
    "    \n",
    "sample_df.orderBy(sample_df.age.desc()).show() #sort the rows\n",
    "sample_df.withColumn('new column', sample_df.age/2).show() #add new column\n",
    "sample_df.drop('age').show() #drop column"
   ]
  },
  {
   "cell_type": "code",
   "execution_count": null,
   "metadata": {},
   "outputs": [],
   "source": [
    "#use SQL script to do the jobs\n",
    "sample_df.registerTempTable('sample_table')\n",
    "sqlContext.sql('select age, name, age/2 as new_column from sample_table order by age desc').show()"
   ]
  },
  {
   "cell_type": "code",
   "execution_count": null,
   "metadata": {},
   "outputs": [],
   "source": [
    "sample_df.select('name','age').orderBy('age').withColumn('new column', sample_df.age/2).show()"
   ]
  },
  {
   "cell_type": "code",
   "execution_count": null,
   "metadata": {},
   "outputs": [],
   "source": [
    "from pyspark.sql import SparkSession\n",
    "from pyspark.sql import Row\n",
    "import os\n",
    "\n",
    "spark = SparkSession \\\n",
    "    .builder \\\n",
    "    .appName(\"Python Spark SQL basic example\") \\\n",
    "    .config(\"spark.some.config.option\", \"some-value\") \\\n",
    "    .getOrCreate()\n",
    "\n",
    "sc = spark.sparkContext    \n",
    "    \n",
    "#sqlContext = SQLContext(sc)\n",
    "\n",
    "l = [('Ankit',25),('Jalfaizy',22),('saurabh',20),('Bala',26)]\n",
    "rdd = sc.parallelize(l)\n",
    "people = rdd.map(lambda x: Row(name=x[0], age=int(x[1])))\n",
    "People_df = spark.createDataFrame(people)\n",
    "People_df.show()\n",
    "if os.path.exists('people.csv'):\n",
    "    print('CSV File Exists Already!')\n",
    "else:\n",
    "    People_df.coalesce(1).write.csv('people.csv', header=True)\n",
    "    print('CSV File Saving Success!')\n",
    "    \n",
    "if os.path.exists('people.csv'):\n",
    "    sample_df = spark.read.load('people.csv', format=\"csv\", sep=\",\", inferSchema=True, header=True)\n",
    "    sample_df.show()\n",
    "    print('CSV File Loading Success!')\n",
    "else:\n",
    "    print('CSV File Does not Exist!')\n",
    "    \n"
   ]
  },
  {
   "cell_type": "code",
   "execution_count": null,
   "metadata": {},
   "outputs": [],
   "source": [
    "sample_df.write.option(\"path\", \"test\").saveAsTable(\"t\")"
   ]
  },
  {
   "cell_type": "code",
   "execution_count": null,
   "metadata": {
    "collapsed": true
   },
   "outputs": [],
   "source": [
    "#sc.stop()"
   ]
  }
 ],
 "metadata": {
  "kernelspec": {
   "display_name": "Python 3",
   "language": "python",
   "name": "python3"
  },
  "language_info": {
   "codemirror_mode": {
    "name": "ipython",
    "version": 3
   },
   "file_extension": ".py",
   "mimetype": "text/x-python",
   "name": "python",
   "nbconvert_exporter": "python",
   "pygments_lexer": "ipython3",
   "version": "3.6.7"
  }
 },
 "nbformat": 4,
 "nbformat_minor": 2
}
