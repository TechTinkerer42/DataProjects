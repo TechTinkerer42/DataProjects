{
 "cells": [
  {
   "cell_type": "markdown",
   "metadata": {},
   "source": [
    "#### Any command that works at the command-line can be used in IPython by prefixing it with the ! character. For example,"
   ]
  },
  {
   "cell_type": "code",
   "execution_count": 1,
   "metadata": {},
   "outputs": [
    {
     "name": "stdout",
     "output_type": "stream",
     "text": [
      "DataProfiler.ipynb     derby.log\tinput01.txt\r\n",
      "Spark_DataFrame.ipynb  fibonacci.ipynb\tipython-sql-demo.ipynb\r\n",
      "Untitled.ipynb\t       fibonacci.py\tmetastore_db\r\n",
      "checkPointFolder       gradesdict.json\tpeople.csv\r\n",
      "decorator_intro.ipynb  gradesdict.pkl\r\n"
     ]
    }
   ],
   "source": [
    "!ls"
   ]
  },
  {
   "cell_type": "code",
   "execution_count": 2,
   "metadata": {},
   "outputs": [
    {
     "name": "stdout",
     "output_type": "stream",
     "text": [
      "/mnt/c/github/Learning-Notes/jupyter_notes\r\n"
     ]
    }
   ],
   "source": [
    "!pwd"
   ]
  },
  {
   "cell_type": "code",
   "execution_count": 13,
   "metadata": {},
   "outputs": [
    {
     "name": "stdout",
     "output_type": "stream",
     "text": [
      "['/mnt/c/github/Learning-Notes/jupyter_notes']\n",
      "ls: cannot access '[/mnt/c/github/Learning-Notes/jupyter_notes]/.vscode': No such file or directory\r\n"
     ]
    }
   ],
   "source": [
    "directory = !pwd\n",
    "print(directory)\n",
    "!ls {directory}/.vscode"
   ]
  },
  {
   "cell_type": "code",
   "execution_count": 12,
   "metadata": {},
   "outputs": [
    {
     "name": "stdout",
     "output_type": "stream",
     "text": [
      "/bin/sh: 1: ll: not found\r\n"
     ]
    }
   ],
   "source": [
    "!ll"
   ]
  },
  {
   "cell_type": "markdown",
   "metadata": {},
   "source": [
    "#### if you play with IPython's shell commands for a while, you might notice that you cannot use !cd to navigate the filesystem:"
   ]
  },
  {
   "cell_type": "code",
   "execution_count": 15,
   "metadata": {},
   "outputs": [
    {
     "name": "stdout",
     "output_type": "stream",
     "text": [
      "/mnt/c/github/Learning-Notes/jupyter_notes\n",
      "/mnt/c/github/Learning-Notes/jupyter_notes\n"
     ]
    }
   ],
   "source": [
    "!pwd\n",
    "!cd metastore_db\n",
    "!pwd"
   ]
  },
  {
   "cell_type": "markdown",
   "metadata": {},
   "source": [
    "#### The reason is that shell commands in the notebook are executed in a temporary subshell. \n",
    "#### If you'd like to change the working directory in a more enduring way, you can use the %cd magic command:"
   ]
  },
  {
   "cell_type": "code",
   "execution_count": 3,
   "metadata": {},
   "outputs": [
    {
     "name": "stdout",
     "output_type": "stream",
     "text": [
      "/mnt/c/github/Learning-Notes/jupyter_notes\n",
      "/mnt/c/github/Learning-Notes\n",
      "/mnt/c/github/Learning-Notes\n"
     ]
    }
   ],
   "source": [
    "!pwd\n",
    "%cd ..\n",
    "!pwd"
   ]
  },
  {
   "cell_type": "code",
   "execution_count": 4,
   "metadata": {},
   "outputs": [
    {
     "data": {
      "text/plain": [
       "'/mnt/c/github/Learning-Notes'"
      ]
     },
     "execution_count": 4,
     "metadata": {},
     "output_type": "execute_result"
    }
   ],
   "source": [
    "%pwd"
   ]
  },
  {
   "cell_type": "markdown",
   "metadata": {},
   "source": [
    "#### This is known as an automagic function, and this behavior can be toggled with the %automagic magic function.\n",
    "\n",
    "#### Besides %cd, other available shell-like magic functions are %cat, %cp, %env, %ls, %man, %mkdir, %more, %mv, %pwd, %rm, \n",
    "#### and %rmdir, any of which can be used without the % sign if automagic is on. This makes it so that you can almost treat \n",
    "#### the IPython prompt as if it's a normal shell:"
   ]
  },
  {
   "cell_type": "code",
   "execution_count": 5,
   "metadata": {},
   "outputs": [
    {
     "name": "stdout",
     "output_type": "stream",
     "text": [
      "\u001b[0m\u001b[01;32mREADME.md\u001b[0m*  \u001b[34;42mjupyter_notes\u001b[0m/  \u001b[34;42mpython_codes\u001b[0m/  \u001b[34;42mvisualization\u001b[0m/\n",
      "\u001b[0m\u001b[01;32mREADME.md\u001b[0m*  \u001b[34;42mjupyter_notes\u001b[0m/  \u001b[34;42mpython_codes\u001b[0m/  \u001b[34;42mtmp\u001b[0m/  \u001b[34;42mvisualization\u001b[0m/\n",
      "\u001b[0m\u001b[01;32mREADME.md\u001b[0m*  \u001b[34;42mjupyter_notes\u001b[0m/  \u001b[34;42mpython_codes\u001b[0m/  \u001b[34;42mvisualization\u001b[0m/\n"
     ]
    }
   ],
   "source": [
    "%ls\n",
    "%mkdir tmp\n",
    "%ls\n",
    "%rm -r tmp\n",
    "%ls"
   ]
  },
  {
   "cell_type": "code",
   "execution_count": null,
   "metadata": {},
   "outputs": [],
   "source": []
  }
 ],
 "metadata": {
  "kernelspec": {
   "display_name": "Python 3",
   "language": "python",
   "name": "python3"
  },
  "language_info": {
   "codemirror_mode": {
    "name": "ipython",
    "version": 3
   },
   "file_extension": ".py",
   "mimetype": "text/x-python",
   "name": "python",
   "nbconvert_exporter": "python",
   "pygments_lexer": "ipython3",
   "version": "3.6.7"
  }
 },
 "nbformat": 4,
 "nbformat_minor": 2
}
